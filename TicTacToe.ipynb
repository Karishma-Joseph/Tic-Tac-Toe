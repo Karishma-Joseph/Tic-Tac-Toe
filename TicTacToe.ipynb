{
 "cells": [
  {
   "cell_type": "code",
   "execution_count": 1,
   "metadata": {
    "collapsed": true
   },
   "outputs": [],
   "source": [
    "board = [(1,2,3),(4,5,6),(7,8,9)]"
   ]
  },
  {
   "cell_type": "code",
   "execution_count": 2,
   "metadata": {
    "collapsed": true
   },
   "outputs": [],
   "source": [
    "from __future__ import print_function"
   ]
  },
  {
   "cell_type": "code",
   "execution_count": 3,
   "metadata": {
    "collapsed": true
   },
   "outputs": [],
   "source": [
    "from IPython.display import clear_output"
   ]
  },
  {
   "cell_type": "code",
   "execution_count": 4,
   "metadata": {
    "collapsed": true
   },
   "outputs": [],
   "source": [
    "def display_board(board):\n",
    "    \"\"\"\n",
    "    INPUT: list\n",
    "    OUTPUT: prints the list in a 3x3 matrix format\n",
    "    \"\"\"\n",
    "    clear_output()\n",
    "    for t1,t2,t3 in board:\n",
    "        print ('{x}\\t{y}\\t{z}'.format(x = t1, y = t2, z = t3))\n",
    "    "
   ]
  },
  {
   "cell_type": "code",
   "execution_count": 5,
   "metadata": {},
   "outputs": [
    {
     "name": "stdout",
     "output_type": "stream",
     "text": [
      "1\t2\t3\n",
      "4\t5\t6\n",
      "7\t8\t9\n"
     ]
    }
   ],
   "source": [
    "display_board(board)"
   ]
  },
  {
   "cell_type": "code",
   "execution_count": 6,
   "metadata": {
    "collapsed": true
   },
   "outputs": [],
   "source": [
    "def player_input():\n",
    "    \"\"\"\n",
    "    INPUT: void\n",
    "    OUTPUT: marker and position values from user and returns marker\n",
    "    \"\"\"\n",
    "    global pos\n",
    "    while True:\n",
    "        marker = input(\"Enter the marker\")\n",
    "        pos = input(\"Enter the position\")\n",
    "        if (marker != 'X') and (marker !='O'):\n",
    "            print ('Enter the correct marker (X/O)')\n",
    "        elif not (1<=pos<=9):\n",
    "            print ('Enter the correct position')\n",
    "        else:\n",
    "            break\n",
    "    return marker"
   ]
  },
  {
   "cell_type": "code",
   "execution_count": 7,
   "metadata": {
    "collapsed": true
   },
   "outputs": [],
   "source": [
    "def place_marker(board, marker, position):\n",
    "    \"\"\"\n",
    "    INPUT: board, marker and position\n",
    "    OUTPUT: Places the marker in the corresponing position on the board. Returns board.\n",
    "    \"\"\"\n",
    "    board =  [[marker if y==position else y for y in x]for x in board]\n",
    "    return board"
   ]
  },
  {
   "cell_type": "code",
   "execution_count": 8,
   "metadata": {
    "collapsed": true
   },
   "outputs": [],
   "source": [
    "def win_check(board, marker):\n",
    "    \"\"\"\n",
    "    INPUT: board and marker\n",
    "    OUTPUT: returns TRUE if marker has won and FALSE otherwise\n",
    "    \"\"\"\n",
    "    flag =0\n",
    "    for i in range(3):\n",
    "        if board[i][0]==board[i][1]==board[i][2]==marker:\n",
    "            flag=1\n",
    "        if board[0][i]==board[1][i]==board[2][i]==marker:\n",
    "            flag=1\n",
    "            \n",
    "    if board[0][0]==board[1][1]==board[2][2]==marker:\n",
    "        flag=1\n",
    "    if board[0][2]==board[1][1]==board[2][0]==marker:\n",
    "        flag=1\n",
    "        \n",
    "    if flag==1:\n",
    "        return True\n",
    "    else:\n",
    "        return False"
   ]
  },
  {
   "cell_type": "code",
   "execution_count": 9,
   "metadata": {
    "collapsed": true
   },
   "outputs": [],
   "source": [
    "import random\n"
   ]
  },
  {
   "cell_type": "code",
   "execution_count": 10,
   "metadata": {
    "collapsed": true
   },
   "outputs": [],
   "source": [
    "def choose_first():\n",
    "    \"\"\"\n",
    "    INPUT: void\n",
    "    OUTPUT: Returns String of first or second player\n",
    "    \"\"\"\n",
    "    r = random.randint(1,3)\n",
    "    if r== 1:\n",
    "        str = 'First Player'\n",
    "    else:\n",
    "        str = 'Second Player'\n",
    "    return str"
   ]
  },
  {
   "cell_type": "code",
   "execution_count": 11,
   "metadata": {
    "collapsed": true
   },
   "outputs": [],
   "source": [
    "def space_check(board,position):\n",
    "    \"\"\"\n",
    "    INPUT: board and position\n",
    "    OUTPUT: Returns TRUE if there is space in the board else returns false\n",
    "    \"\"\"\n",
    "    for x in board:\n",
    "        for y in x:\n",
    "            if y==position:\n",
    "                return True\n",
    "    return False"
   ]
  },
  {
   "cell_type": "code",
   "execution_count": 12,
   "metadata": {
    "collapsed": true
   },
   "outputs": [],
   "source": [
    "def full_board_check(board):\n",
    "    \"\"\"\n",
    "    INPUT: board\n",
    "    OUTPUT: returns TRUE if board is full and FALSE otherwise\n",
    "    \"\"\"\n",
    "    for x in board:\n",
    "        for y in x:\n",
    "            if (y != 'X') and (y != 'O'):\n",
    "                return False\n",
    "    return True\n",
    "    "
   ]
  },
  {
   "cell_type": "code",
   "execution_count": 13,
   "metadata": {
    "collapsed": true
   },
   "outputs": [],
   "source": [
    "def player_choice(board):\n",
    "    \"\"\"\n",
    "    INPUT: board\n",
    "    OUTPUT: Returns the next position\n",
    "    \"\"\"\n",
    "    position = input(\"Enter the position\")\n",
    "    while True:\n",
    "        if space_check(board,position):\n",
    "            return position\n",
    "        else:\n",
    "            position = input(\"Enter another position\")"
   ]
  },
  {
   "cell_type": "code",
   "execution_count": 14,
   "metadata": {
    "collapsed": true
   },
   "outputs": [],
   "source": [
    "def replay():\n",
    "    \"\"\"\n",
    "    INPUT: void\n",
    "    OUTPUT: returns TRUE if player wants to play again. FALSE otherwise.\n",
    "    \"\"\"\n",
    "    s = input(\"Do you want to play again? [y/n]\")\n",
    "    if s == 'y':\n",
    "        return True\n",
    "    return False"
   ]
  },
  {
   "cell_type": "code",
   "execution_count": 17,
   "metadata": {},
   "outputs": [
    {
     "name": "stdout",
     "output_type": "stream",
     "text": [
      "X\tO\tX\n",
      "O\tO\tX\n",
      "X\tX\tO\n",
      "It's a Tie\n",
      "Do you want to play again? [y/n]'n'\n"
     ]
    }
   ],
   "source": [
    "print('Welcome to Tic Tac Toe!')\n",
    "board = [(1,2,3),(4,5,6),(7,8,9)]\n",
    "\n",
    "while True:\n",
    "    display_board(board)\n",
    "    print(choose_first() + \" goes first\")\n",
    "    marker1 = player_input()\n",
    "    board = place_marker(board,marker1,pos)\n",
    "    display_board(board)\n",
    "    print(\"Next player\")\n",
    "    marker2 = player_input()\n",
    "    board = place_marker(board,marker2,pos)\n",
    "    display_board(board)\n",
    "\n",
    "    while not full_board_check(board):\n",
    "        print(\"Player 1's turn\")\n",
    "        pos = player_choice(board)\n",
    "        board = place_marker(board,marker1,pos)\n",
    "        display_board(board)\n",
    "        if win_check(board,marker1):\n",
    "            print(\"Player 1 wins\")\n",
    "            break\n",
    "            \n",
    "        if full_board_check(board):\n",
    "            print(\"It's a Tie\")\n",
    "            break\n",
    "            \n",
    "            \n",
    "        print(\"Player 2's turn\")\n",
    "        pos = player_choice(board)\n",
    "        board = place_marker(board,marker2,pos)\n",
    "        display_board(board)\n",
    "        if win_check(board,marker2):\n",
    "            print(\"Player 2 wins\")\n",
    "            break\n",
    "    \n",
    "    if replay():\n",
    "        board = [(1,2,3),(4,5,6),(7,8,9)]\n",
    "        display_board(board)\n",
    "    else:\n",
    "        break\n"
   ]
  },
  {
   "cell_type": "code",
   "execution_count": null,
   "metadata": {
    "collapsed": true
   },
   "outputs": [],
   "source": []
  }
 ],
 "metadata": {
  "kernelspec": {
   "display_name": "Python 2",
   "language": "python",
   "name": "python2"
  },
  "language_info": {
   "codemirror_mode": {
    "name": "ipython",
    "version": 2
   },
   "file_extension": ".py",
   "mimetype": "text/x-python",
   "name": "python",
   "nbconvert_exporter": "python",
   "pygments_lexer": "ipython2",
   "version": "2.7.13"
  }
 },
 "nbformat": 4,
 "nbformat_minor": 2
}
